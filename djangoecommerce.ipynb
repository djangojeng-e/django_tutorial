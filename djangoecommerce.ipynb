{
 "cells": [
  {
   "cell_type": "code",
   "execution_count": 1,
   "metadata": {},
   "outputs": [
    {
     "ename": "SyntaxError",
     "evalue": "invalid syntax (<ipython-input-1-8f02c1ddd1ee>, line 4)",
     "output_type": "error",
     "traceback": [
      "\u001b[0;36m  File \u001b[0;32m\"<ipython-input-1-8f02c1ddd1ee>\"\u001b[0;36m, line \u001b[0;32m4\u001b[0m\n\u001b[0;31m    django-admin startproject ecommerce .\u001b[0m\n\u001b[0m                            ^\u001b[0m\n\u001b[0;31mSyntaxError\u001b[0m\u001b[0;31m:\u001b[0m invalid syntax\n"
     ]
    }
   ],
   "source": [
    "# Hello World \n",
    "\n",
    "# start project \n",
    "django-admin startproject ecommerce . \n",
    "\n",
    "# runserver \n",
    "python manage.py runserver \n",
    "python manage.py runserver 8888 \n",
    "\n",
    "# typical views.py \n",
    "\n",
    "from django.http import HttpResoponse \n",
    "from django.shortcuts import render \n",
    "\n",
    "def home_page(request):\n",
    "    return HttpResponse('Hello World')\n",
    "\n",
    "# urls.py \n",
    "\n",
    "from .views import home_page \n",
    "\n",
    "urlpatterns = [\n",
    "    path('', home_page, name='home_page'),\n",
    "    path('admin/', admin.site.urls),\n",
    "]\n",
    "\n",
    "\n",
    "# django template \n",
    "\n",
    "\n",
    "\n",
    "\n",
    "\n"
   ]
  },
  {
   "cell_type": "code",
   "execution_count": 2,
   "metadata": {},
   "outputs": [
    {
     "ename": "ModuleNotFoundError",
     "evalue": "No module named '__main__.forms'; '__main__' is not a package",
     "output_type": "error",
     "traceback": [
      "\u001b[0;31m---------------------------------------------------------------------------\u001b[0m",
      "\u001b[0;31mModuleNotFoundError\u001b[0m                       Traceback (most recent call last)",
      "\u001b[0;32m<ipython-input-2-2dd3bb450c34>\u001b[0m in \u001b[0;36m<module>\u001b[0;34m\u001b[0m\n\u001b[1;32m     11\u001b[0m \u001b[0;31m# views\u001b[0m\u001b[0;34m\u001b[0m\u001b[0;34m\u001b[0m\u001b[0;34m\u001b[0m\u001b[0m\n\u001b[1;32m     12\u001b[0m \u001b[0;34m\u001b[0m\u001b[0m\n\u001b[0;32m---> 13\u001b[0;31m \u001b[0;32mfrom\u001b[0m \u001b[0;34m.\u001b[0m\u001b[0mforms\u001b[0m \u001b[0;32mimport\u001b[0m \u001b[0mContactForm\u001b[0m\u001b[0;34m\u001b[0m\u001b[0;34m\u001b[0m\u001b[0m\n\u001b[0m\u001b[1;32m     14\u001b[0m \u001b[0;34m\u001b[0m\u001b[0m\n\u001b[1;32m     15\u001b[0m \u001b[0;32mdef\u001b[0m \u001b[0mcontact_page\u001b[0m\u001b[0;34m(\u001b[0m\u001b[0mrequest\u001b[0m\u001b[0;34m)\u001b[0m\u001b[0;34m:\u001b[0m\u001b[0;34m\u001b[0m\u001b[0;34m\u001b[0m\u001b[0m\n",
      "\u001b[0;31mModuleNotFoundError\u001b[0m: No module named '__main__.forms'; '__main__' is not a package"
     ]
    }
   ],
   "source": [
    "# forms \n",
    "from django import forms \n",
    "\n",
    "\n",
    "class ContactForm(forms.Form):\n",
    "    fullname = forms.CharField()\n",
    "    email = forms.EmailField()\n",
    "    content = forms.CharField()\n",
    "    \n",
    "    \n",
    "# views \n",
    "\n",
    "from .forms import ContactForm \n",
    "\n",
    "def contact_page(request):\n",
    "    contact_form = ContactForm() \n",
    "    \n",
    "    context = {\n",
    "        'form': contact_form \n",
    "    }\n",
    "    \n",
    "# templates \n",
    "\n",
    "{{ form }}"
   ]
  },
  {
   "cell_type": "code",
   "execution_count": null,
   "metadata": {},
   "outputs": [],
   "source": []
  }
 ],
 "metadata": {
  "kernelspec": {
   "display_name": "Django Shell-Plus",
   "language": "python",
   "name": "django_extensions"
  },
  "language_info": {
   "codemirror_mode": {
    "name": "ipython",
    "version": 3
   },
   "file_extension": ".py",
   "mimetype": "text/x-python",
   "name": "python",
   "nbconvert_exporter": "python",
   "pygments_lexer": "ipython3",
   "version": "3.7.4"
  }
 },
 "nbformat": 4,
 "nbformat_minor": 4
}
