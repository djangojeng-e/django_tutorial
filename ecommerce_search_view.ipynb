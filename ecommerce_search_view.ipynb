{
 "cells": [
  {
   "cell_type": "code",
   "execution_count": null,
   "metadata": {},
   "outputs": [],
   "source": [
    "# search view \n",
    "\n",
    "# creating a view \n",
    "\n",
    "# create a search app \n",
    "# include search into INSTALLED_APPS\n",
    "\n",
    "from django.shortcuts import render \n",
    "from products.models import Product \n",
    "\n",
    "\n",
    "class SearchProductView(ListView):\n",
    "    template_name = 'products/list.html'\n",
    "    \n",
    "    def get_queryset(self, *args, **kwargs):\n",
    "        reqeust = self.request \n",
    "        print(request.GET)\n",
    "        query = request.GET.get('q', None)\n",
    "        if query is not None:\n",
    "            return Product.objects.filter(title__icontains=query)\n",
    "        else:\n",
    "            return Product.objects.none()\n",
    "    \n",
    "        \"\"\"\n",
    "        __icontains = field contains this \n",
    "        __iexact = field is exactly this \n",
    "        \"\"\"\n",
    "            return None\n",
    "    \n",
    "\n",
    "class SearchProductView(ListView):\n",
    "    template_name = 'search/view.html'\n",
    "    \n",
    "    def get_context_data(self, *args, **kwargs):\n",
    "        context = super(SearchProductView, self).get_context_data(*args, **kwargs)\n",
    "        query = self.reqeust.GET.get('q')\n",
    "        context['query'] = query\n",
    "        SearchQuery\n",
    "        return context \n",
    "    \n",
    "    def get_queryset(self, *args, **kwargs):\n",
    "        request = self.request \n",
    "        method_dict = request.GET \n",
    "        query = method_dict.get('q', None)\n",
    "        if query is not None: \n",
    "            return Product.objects.filter(title__icontains=query)\n",
    "        return Product.objects.featured() "
   ]
  }
 ],
 "metadata": {
  "kernelspec": {
   "display_name": "Django Shell-Plus",
   "language": "python",
   "name": "django_extensions"
  },
  "language_info": {
   "codemirror_mode": {
    "name": "ipython",
    "version": 3
   },
   "file_extension": ".py",
   "mimetype": "text/x-python",
   "name": "python",
   "nbconvert_exporter": "python",
   "pygments_lexer": "ipython3",
   "version": "3.7.4"
  }
 },
 "nbformat": 4,
 "nbformat_minor": 4
}
