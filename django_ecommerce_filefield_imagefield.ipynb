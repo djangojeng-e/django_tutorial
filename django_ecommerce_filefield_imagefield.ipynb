{
 "cells": [
  {
   "cell_type": "code",
   "execution_count": 2,
   "metadata": {},
   "outputs": [
    {
     "ename": "NameError",
     "evalue": "name 'models' is not defined",
     "output_type": "error",
     "traceback": [
      "\u001b[0;31m---------------------------------------------------------------------------\u001b[0m",
      "\u001b[0;31mNameError\u001b[0m                                 Traceback (most recent call last)",
      "\u001b[0;32m<ipython-input-2-20acd0cb2aa5>\u001b[0m in \u001b[0;36m<module>\u001b[0;34m\u001b[0m\n\u001b[1;32m      9\u001b[0m \u001b[0;31m# Add image = filefield()\u001b[0m\u001b[0;34m\u001b[0m\u001b[0;34m\u001b[0m\u001b[0;34m\u001b[0m\u001b[0m\n\u001b[1;32m     10\u001b[0m \u001b[0;34m\u001b[0m\u001b[0m\n\u001b[0;32m---> 11\u001b[0;31m \u001b[0;32mclass\u001b[0m \u001b[0mProduct\u001b[0m\u001b[0;34m(\u001b[0m\u001b[0mmodels\u001b[0m\u001b[0;34m.\u001b[0m\u001b[0mModel\u001b[0m\u001b[0;34m)\u001b[0m\u001b[0;34m:\u001b[0m\u001b[0;34m\u001b[0m\u001b[0;34m\u001b[0m\u001b[0m\n\u001b[0m\u001b[1;32m     12\u001b[0m     \u001b[0mtitle\u001b[0m \u001b[0;34m=\u001b[0m \u001b[0mmodels\u001b[0m\u001b[0;34m.\u001b[0m\u001b[0mCharField\u001b[0m\u001b[0;34m(\u001b[0m\u001b[0mmax_length\u001b[0m\u001b[0;34m=\u001b[0m\u001b[0;36m120\u001b[0m\u001b[0;34m)\u001b[0m\u001b[0;34m\u001b[0m\u001b[0;34m\u001b[0m\u001b[0m\n\u001b[1;32m     13\u001b[0m     \u001b[0mdescription\u001b[0m \u001b[0;34m=\u001b[0m \u001b[0mmodels\u001b[0m\u001b[0;34m.\u001b[0m\u001b[0mTextField\u001b[0m\u001b[0;34m(\u001b[0m\u001b[0;34m)\u001b[0m\u001b[0;34m\u001b[0m\u001b[0;34m\u001b[0m\u001b[0m\n",
      "\u001b[0;31mNameError\u001b[0m: name 'models' is not defined"
     ]
    }
   ],
   "source": [
    "# adding __str__(self) to the models \n",
    "\n",
    "# by adding __str__(self) to the models, it is a method \n",
    "# translating model objects into string\n",
    "\n",
    "# When Modelling, use singular Form of class name \n",
    "# e.g. class Product(models.Model): \n",
    "\n",
    "# Add image = filefield()\n",
    "\n",
    "import random \n",
    "import os \n",
    "from django.db import models \n",
    "\n",
    "\n",
    "def get_filename_ext(filepath):\n",
    "    base_name = os.path.basename(filename)\n",
    "    name, ext = os.path.splitext(filename)\n",
    "    return name, ext \n",
    "\n",
    "\n",
    "def upload_image_path(instance, filename):\n",
    "    print(instance)\n",
    "    print(filename)\n",
    "    new_filename = random.randint(1, 391029283)\n",
    "    name, ext = get_filename_ext(filename)\n",
    "    final_filename = '{new_filename}{ext}'.format(new_filename=new_filename, ext=ext) \n",
    "    return \"products/{new_filename}/{final_filename}\".format(\n",
    "        new_filename=new_filename,\n",
    "        final_filename=final_filename)\n",
    "\n",
    "\n",
    "class Product(models.Model):\n",
    "    title = models.CharField(max_length=120)\n",
    "    description = models.TextField()\n",
    "    price = models.DecimalField(decimal_places=2, max_digits=20)\n",
    "    image = models.FileField(upload_to=upload_image_path, null=True, blank=True)\n",
    "    \n",
    "    def __str__(self):\n",
    "        return self.title\n",
    "    \n",
    "    def __unicode__(self):\n",
    "        return self.title\n",
    "    \n",
    "\n",
    "\n",
    "    \n",
    "# null=True, blank=True make backend not getting mad \n"
   ]
  },
  {
   "cell_type": "code",
   "execution_count": null,
   "metadata": {},
   "outputs": [],
   "source": []
  }
 ],
 "metadata": {
  "kernelspec": {
   "display_name": "Django Shell-Plus",
   "language": "python",
   "name": "django_extensions"
  },
  "language_info": {
   "codemirror_mode": {
    "name": "ipython",
    "version": 3
   },
   "file_extension": ".py",
   "mimetype": "text/x-python",
   "name": "python",
   "nbconvert_exporter": "python",
   "pygments_lexer": "ipython3",
   "version": "3.7.4"
  }
 },
 "nbformat": 4,
 "nbformat_minor": 4
}
