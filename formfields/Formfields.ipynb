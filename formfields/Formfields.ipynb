{
 "cells": [
  {
   "cell_type": "code",
   "execution_count": 1,
   "metadata": {},
   "outputs": [],
   "source": [
    "from django import forms \n",
    "class CommentForm(forms.Form):\n",
    "    name = forms.CharField(label='Your name')\n",
    "    url = forms.URLField(label='Your website', required=False)\n",
    "    comment = forms.CharField()"
   ]
  },
  {
   "cell_type": "code",
   "execution_count": 5,
   "metadata": {},
   "outputs": [],
   "source": [
    "f = CommentForm(auto_id=True)"
   ]
  },
  {
   "cell_type": "code",
   "execution_count": 6,
   "metadata": {},
   "outputs": [
    {
     "name": "stdout",
     "output_type": "stream",
     "text": [
      "<tr><th><label for=\"name\">Your name:</label></th><td><input type=\"text\" name=\"name\" required id=\"name\"></td></tr>\n",
      "<tr><th><label for=\"url\">Your website:</label></th><td><input type=\"url\" name=\"url\" id=\"url\"></td></tr>\n",
      "<tr><th><label for=\"comment\">Comment:</label></th><td><input type=\"text\" name=\"comment\" required id=\"comment\"></td></tr>\n"
     ]
    }
   ],
   "source": [
    "print(f)"
   ]
  },
  {
   "cell_type": "code",
   "execution_count": 7,
   "metadata": {},
   "outputs": [],
   "source": [
    "f = CommentForm(auto_id=False)"
   ]
  },
  {
   "cell_type": "code",
   "execution_count": 8,
   "metadata": {},
   "outputs": [
    {
     "name": "stdout",
     "output_type": "stream",
     "text": [
      "<tr><th>Your name:</th><td><input type=\"text\" name=\"name\" required></td></tr>\n",
      "<tr><th>Your website:</th><td><input type=\"url\" name=\"url\"></td></tr>\n",
      "<tr><th>Comment:</th><td><input type=\"text\" name=\"comment\" required></td></tr>\n"
     ]
    }
   ],
   "source": [
    "print(f)"
   ]
  },
  {
   "cell_type": "code",
   "execution_count": 9,
   "metadata": {},
   "outputs": [],
   "source": [
    "class ContactForm(forms.Form):\n",
    "    age = forms.IntegerField()\n",
    "    nationality = forms.CharField()\n",
    "    captha_answer = forms.IntegerField(label= '2 + 2', label_suffix=' =')"
   ]
  },
  {
   "cell_type": "code",
   "execution_count": 10,
   "metadata": {},
   "outputs": [],
   "source": [
    "f = ContactForm(label_suffix='?')"
   ]
  },
  {
   "cell_type": "code",
   "execution_count": 11,
   "metadata": {},
   "outputs": [
    {
     "name": "stdout",
     "output_type": "stream",
     "text": [
      "<p><label for=\"id_age\">Age?</label> <input type=\"number\" name=\"age\" required id=\"id_age\"></p>\n",
      "<p><label for=\"id_nationality\">Nationality?</label> <input type=\"text\" name=\"nationality\" required id=\"id_nationality\"></p>\n",
      "<p><label for=\"id_captha_answer\">2 + 2 =</label> <input type=\"number\" name=\"captha_answer\" required id=\"id_captha_answer\"></p>\n"
     ]
    }
   ],
   "source": [
    "print(f.as_p())"
   ]
  },
  {
   "cell_type": "code",
   "execution_count": 12,
   "metadata": {},
   "outputs": [],
   "source": [
    "from django import forms \n",
    "class CommentForm(forms.Form):\n",
    "    name = forms.CharField(initial='Your name')\n",
    "    url = forms.URLField(initial='http://')\n",
    "    comment = forms.CharField()"
   ]
  },
  {
   "cell_type": "code",
   "execution_count": 13,
   "metadata": {},
   "outputs": [
    {
     "name": "stdout",
     "output_type": "stream",
     "text": [
      "<tr><th>Name:</th><td><input type=\"text\" name=\"name\" value=\"Your name\" required></td></tr>\n",
      "<tr><th>Url:</th><td><input type=\"url\" name=\"url\" value=\"http://\" required></td></tr>\n",
      "<tr><th>Comment:</th><td><input type=\"text\" name=\"comment\" required></td></tr>\n"
     ]
    }
   ],
   "source": [
    "f = CommentForm(auto_id=False)\n",
    "print(f)"
   ]
  },
  {
   "cell_type": "code",
   "execution_count": 14,
   "metadata": {},
   "outputs": [],
   "source": [
    "class CommentForm(forms.Form):\n",
    "    name = forms.CharField()\n",
    "    url = forms.URLField()\n",
    "    comment = forms.CharField()"
   ]
  },
  {
   "cell_type": "code",
   "execution_count": 15,
   "metadata": {},
   "outputs": [],
   "source": [
    "default_data = {'name': 'Your name', 'url': 'http://'}"
   ]
  },
  {
   "cell_type": "code",
   "execution_count": 16,
   "metadata": {},
   "outputs": [],
   "source": [
    "f = CommentForm(default_data, auto_id=False)"
   ]
  },
  {
   "cell_type": "code",
   "execution_count": 17,
   "metadata": {},
   "outputs": [
    {
     "name": "stdout",
     "output_type": "stream",
     "text": [
      "<tr><th>Name:</th><td><input type=\"text\" name=\"name\" value=\"Your name\" required></td></tr>\n",
      "<tr><th>Url:</th><td><ul class=\"errorlist\"><li>Enter a valid URL.</li></ul><input type=\"url\" name=\"url\" value=\"http://\" required></td></tr>\n",
      "<tr><th>Comment:</th><td><ul class=\"errorlist\"><li>This field is required.</li></ul><input type=\"text\" name=\"comment\" required></td></tr>\n"
     ]
    }
   ],
   "source": [
    "print(f)"
   ]
  },
  {
   "cell_type": "code",
   "execution_count": 18,
   "metadata": {},
   "outputs": [],
   "source": [
    "class CommentForm(forms.Form):\n",
    "    name = forms.CharField(initial='Your name')\n",
    "    url = forms.URLField(initial='http://')\n",
    "    comment = forms.CharField()"
   ]
  },
  {
   "cell_type": "code",
   "execution_count": 19,
   "metadata": {},
   "outputs": [],
   "source": [
    "data = {'name': '', 'url': '', 'comment': 'foo'}"
   ]
  },
  {
   "cell_type": "code",
   "execution_count": 20,
   "metadata": {},
   "outputs": [],
   "source": [
    "f = CommentForm(data)"
   ]
  },
  {
   "cell_type": "code",
   "execution_count": 21,
   "metadata": {},
   "outputs": [
    {
     "data": {
      "text/plain": [
       "False"
      ]
     },
     "execution_count": 21,
     "metadata": {},
     "output_type": "execute_result"
    }
   ],
   "source": [
    "f.is_valid()"
   ]
  },
  {
   "cell_type": "code",
   "execution_count": 22,
   "metadata": {},
   "outputs": [],
   "source": [
    "# 폼은 초기값들을 사용하여 Fall back 하지 않습니다. "
   ]
  },
  {
   "cell_type": "code",
   "execution_count": 23,
   "metadata": {},
   "outputs": [
    {
     "data": {
      "text/plain": [
       "{'name': ['This field is required.'], 'url': ['This field is required.']}"
      ]
     },
     "execution_count": 23,
     "metadata": {},
     "output_type": "execute_result"
    }
   ],
   "source": [
    "f.errors"
   ]
  },
  {
   "cell_type": "code",
   "execution_count": 24,
   "metadata": {},
   "outputs": [],
   "source": [
    "import datetime\n",
    "class DateForm(forms.Form):\n",
    "    day = forms.DateField(initial=datetime.date.today)"
   ]
  },
  {
   "cell_type": "code",
   "execution_count": 25,
   "metadata": {},
   "outputs": [
    {
     "name": "stdout",
     "output_type": "stream",
     "text": [
      "<tr><th><label for=\"id_day\">Day:</label></th><td><input type=\"text\" name=\"day\" value=\"2020-05-16\" required id=\"id_day\"></td></tr>\n"
     ]
    }
   ],
   "source": [
    "print(DateForm())"
   ]
  },
  {
   "cell_type": "code",
   "execution_count": 26,
   "metadata": {},
   "outputs": [],
   "source": [
    "from django import forms \n",
    "class HelpTextContactForm(forms.Form):\n",
    "    subject = forms.CharField(max_length=100, help_text='100 characters max.')\n",
    "    message = forms.CharField()\n",
    "    sender = forms.EmailField(help_text='A valid email address, please')\n",
    "    cc_myself = forms.BooleanField(required=False)"
   ]
  },
  {
   "cell_type": "code",
   "execution_count": 27,
   "metadata": {},
   "outputs": [],
   "source": [
    "f = HelpTextContactForm(auto_id=False)"
   ]
  },
  {
   "cell_type": "code",
   "execution_count": 28,
   "metadata": {},
   "outputs": [
    {
     "name": "stdout",
     "output_type": "stream",
     "text": [
      "<tr><th>Subject:</th><td><input type=\"text\" name=\"subject\" maxlength=\"100\" required><br><span class=\"helptext\">100 characters max.</span></td></tr>\n",
      "<tr><th>Message:</th><td><input type=\"text\" name=\"message\" required></td></tr>\n",
      "<tr><th>Sender:</th><td><input type=\"email\" name=\"sender\" required><br><span class=\"helptext\">A valid email address, please</span></td></tr>\n",
      "<tr><th>Cc myself:</th><td><input type=\"checkbox\" name=\"cc_myself\"></td></tr>\n"
     ]
    }
   ],
   "source": [
    "print(f.as_table())"
   ]
  },
  {
   "cell_type": "code",
   "execution_count": 29,
   "metadata": {},
   "outputs": [
    {
     "name": "stdout",
     "output_type": "stream",
     "text": [
      "<li>Subject: <input type=\"text\" name=\"subject\" maxlength=\"100\" required> <span class=\"helptext\">100 characters max.</span></li>\n",
      "<li>Message: <input type=\"text\" name=\"message\" required></li>\n",
      "<li>Sender: <input type=\"email\" name=\"sender\" required> <span class=\"helptext\">A valid email address, please</span></li>\n",
      "<li>Cc myself: <input type=\"checkbox\" name=\"cc_myself\"></li>\n"
     ]
    }
   ],
   "source": [
    "print(f.as_ul())"
   ]
  },
  {
   "cell_type": "code",
   "execution_count": 30,
   "metadata": {},
   "outputs": [
    {
     "name": "stdout",
     "output_type": "stream",
     "text": [
      "<p>Subject: <input type=\"text\" name=\"subject\" maxlength=\"100\" required> <span class=\"helptext\">100 characters max.</span></p>\n",
      "<p>Message: <input type=\"text\" name=\"message\" required></p>\n",
      "<p>Sender: <input type=\"email\" name=\"sender\" required> <span class=\"helptext\">A valid email address, please</span></p>\n",
      "<p>Cc myself: <input type=\"checkbox\" name=\"cc_myself\"></p>\n"
     ]
    }
   ],
   "source": [
    "print(f.as_p())"
   ]
  },
  {
   "cell_type": "code",
   "execution_count": 31,
   "metadata": {},
   "outputs": [
    {
     "ename": "ValidationError",
     "evalue": "['This field is required.']",
     "output_type": "error",
     "traceback": [
      "\u001b[0;31m---------------------------------------------------------------------------\u001b[0m",
      "\u001b[0;31mValidationError\u001b[0m                           Traceback (most recent call last)",
      "\u001b[0;32m<ipython-input-31-57036d6e05fe>\u001b[0m in \u001b[0;36m<module>\u001b[0;34m\u001b[0m\n\u001b[1;32m      1\u001b[0m \u001b[0;32mfrom\u001b[0m \u001b[0mdjango\u001b[0m \u001b[0;32mimport\u001b[0m \u001b[0mforms\u001b[0m\u001b[0;34m\u001b[0m\u001b[0;34m\u001b[0m\u001b[0m\n\u001b[1;32m      2\u001b[0m \u001b[0mgeneric\u001b[0m \u001b[0;34m=\u001b[0m \u001b[0mforms\u001b[0m\u001b[0;34m.\u001b[0m\u001b[0mCharField\u001b[0m\u001b[0;34m(\u001b[0m\u001b[0;34m)\u001b[0m\u001b[0;34m\u001b[0m\u001b[0;34m\u001b[0m\u001b[0m\n\u001b[0;32m----> 3\u001b[0;31m \u001b[0mgeneric\u001b[0m\u001b[0;34m.\u001b[0m\u001b[0mclean\u001b[0m\u001b[0;34m(\u001b[0m\u001b[0;34m''\u001b[0m\u001b[0;34m)\u001b[0m\u001b[0;34m\u001b[0m\u001b[0;34m\u001b[0m\u001b[0m\n\u001b[0m",
      "\u001b[0;32m~/.pyenv/versions/django-tutorial/lib/python3.7/site-packages/django/forms/fields.py\u001b[0m in \u001b[0;36mclean\u001b[0;34m(self, value)\u001b[0m\n\u001b[1;32m    147\u001b[0m         \"\"\"\n\u001b[1;32m    148\u001b[0m         \u001b[0mvalue\u001b[0m \u001b[0;34m=\u001b[0m \u001b[0mself\u001b[0m\u001b[0;34m.\u001b[0m\u001b[0mto_python\u001b[0m\u001b[0;34m(\u001b[0m\u001b[0mvalue\u001b[0m\u001b[0;34m)\u001b[0m\u001b[0;34m\u001b[0m\u001b[0;34m\u001b[0m\u001b[0m\n\u001b[0;32m--> 149\u001b[0;31m         \u001b[0mself\u001b[0m\u001b[0;34m.\u001b[0m\u001b[0mvalidate\u001b[0m\u001b[0;34m(\u001b[0m\u001b[0mvalue\u001b[0m\u001b[0;34m)\u001b[0m\u001b[0;34m\u001b[0m\u001b[0;34m\u001b[0m\u001b[0m\n\u001b[0m\u001b[1;32m    150\u001b[0m         \u001b[0mself\u001b[0m\u001b[0;34m.\u001b[0m\u001b[0mrun_validators\u001b[0m\u001b[0;34m(\u001b[0m\u001b[0mvalue\u001b[0m\u001b[0;34m)\u001b[0m\u001b[0;34m\u001b[0m\u001b[0;34m\u001b[0m\u001b[0m\n\u001b[1;32m    151\u001b[0m         \u001b[0;32mreturn\u001b[0m \u001b[0mvalue\u001b[0m\u001b[0;34m\u001b[0m\u001b[0;34m\u001b[0m\u001b[0m\n",
      "\u001b[0;32m~/.pyenv/versions/django-tutorial/lib/python3.7/site-packages/django/forms/fields.py\u001b[0m in \u001b[0;36mvalidate\u001b[0;34m(self, value)\u001b[0m\n\u001b[1;32m    125\u001b[0m     \u001b[0;32mdef\u001b[0m \u001b[0mvalidate\u001b[0m\u001b[0;34m(\u001b[0m\u001b[0mself\u001b[0m\u001b[0;34m,\u001b[0m \u001b[0mvalue\u001b[0m\u001b[0;34m)\u001b[0m\u001b[0;34m:\u001b[0m\u001b[0;34m\u001b[0m\u001b[0;34m\u001b[0m\u001b[0m\n\u001b[1;32m    126\u001b[0m         \u001b[0;32mif\u001b[0m \u001b[0mvalue\u001b[0m \u001b[0;32min\u001b[0m \u001b[0mself\u001b[0m\u001b[0;34m.\u001b[0m\u001b[0mempty_values\u001b[0m \u001b[0;32mand\u001b[0m \u001b[0mself\u001b[0m\u001b[0;34m.\u001b[0m\u001b[0mrequired\u001b[0m\u001b[0;34m:\u001b[0m\u001b[0;34m\u001b[0m\u001b[0;34m\u001b[0m\u001b[0m\n\u001b[0;32m--> 127\u001b[0;31m             \u001b[0;32mraise\u001b[0m \u001b[0mValidationError\u001b[0m\u001b[0;34m(\u001b[0m\u001b[0mself\u001b[0m\u001b[0;34m.\u001b[0m\u001b[0merror_messages\u001b[0m\u001b[0;34m[\u001b[0m\u001b[0;34m'required'\u001b[0m\u001b[0;34m]\u001b[0m\u001b[0;34m,\u001b[0m \u001b[0mcode\u001b[0m\u001b[0;34m=\u001b[0m\u001b[0;34m'required'\u001b[0m\u001b[0;34m)\u001b[0m\u001b[0;34m\u001b[0m\u001b[0;34m\u001b[0m\u001b[0m\n\u001b[0m\u001b[1;32m    128\u001b[0m \u001b[0;34m\u001b[0m\u001b[0m\n\u001b[1;32m    129\u001b[0m     \u001b[0;32mdef\u001b[0m \u001b[0mrun_validators\u001b[0m\u001b[0;34m(\u001b[0m\u001b[0mself\u001b[0m\u001b[0;34m,\u001b[0m \u001b[0mvalue\u001b[0m\u001b[0;34m)\u001b[0m\u001b[0;34m:\u001b[0m\u001b[0;34m\u001b[0m\u001b[0;34m\u001b[0m\u001b[0m\n",
      "\u001b[0;31mValidationError\u001b[0m: ['This field is required.']"
     ]
    }
   ],
   "source": [
    "from django import forms \n",
    "generic = forms.CharField()\n",
    "generic.clean('')"
   ]
  },
  {
   "cell_type": "code",
   "execution_count": 34,
   "metadata": {},
   "outputs": [],
   "source": [
    "class Developer(forms.Form):\n",
    "    name = forms.CharField(error_messages={'required': 'Please enter your name'})"
   ]
  },
  {
   "cell_type": "code",
   "execution_count": 40,
   "metadata": {},
   "outputs": [
    {
     "ename": "TypeError",
     "evalue": "__init__() got an unexpected keyword argument 'name'",
     "output_type": "error",
     "traceback": [
      "\u001b[0;31m---------------------------------------------------------------------------\u001b[0m",
      "\u001b[0;31mTypeError\u001b[0m                                 Traceback (most recent call last)",
      "\u001b[0;32m<ipython-input-40-3db72deaf263>\u001b[0m in \u001b[0;36m<module>\u001b[0;34m\u001b[0m\n\u001b[0;32m----> 1\u001b[0;31m \u001b[0md\u001b[0m \u001b[0;34m=\u001b[0m \u001b[0mDeveloper\u001b[0m\u001b[0;34m(\u001b[0m\u001b[0mname\u001b[0m\u001b[0;34m=\u001b[0m\u001b[0;34m''\u001b[0m\u001b[0;34m)\u001b[0m\u001b[0;34m\u001b[0m\u001b[0;34m\u001b[0m\u001b[0m\n\u001b[0m",
      "\u001b[0;31mTypeError\u001b[0m: __init__() got an unexpected keyword argument 'name'"
     ]
    }
   ],
   "source": [
    "d = Developer(name='')"
   ]
  },
  {
   "cell_type": "code",
   "execution_count": 38,
   "metadata": {},
   "outputs": [
    {
     "data": {
      "text/plain": [
       "False"
      ]
     },
     "execution_count": 38,
     "metadata": {},
     "output_type": "execute_result"
    }
   ],
   "source": [
    "d.is_valid()"
   ]
  },
  {
   "cell_type": "code",
   "execution_count": 44,
   "metadata": {},
   "outputs": [],
   "source": [
    "from django.forms import ComboField, CharField, EmailField"
   ]
  },
  {
   "cell_type": "code",
   "execution_count": 45,
   "metadata": {},
   "outputs": [],
   "source": [
    "f = ComboField(fields=[CharField(max_length=20), EmailField])"
   ]
  },
  {
   "cell_type": "code",
   "execution_count": 47,
   "metadata": {},
   "outputs": [],
   "source": [
    "f = 'test@example.com'"
   ]
  },
  {
   "cell_type": "code",
   "execution_count": 48,
   "metadata": {},
   "outputs": [
    {
     "ename": "TypeError",
     "evalue": "'module' object is not callable",
     "output_type": "error",
     "traceback": [
      "\u001b[0;31m---------------------------------------------------------------------------\u001b[0m",
      "\u001b[0;31mTypeError\u001b[0m                                 Traceback (most recent call last)",
      "\u001b[0;32m<ipython-input-48-56b5835f94b5>\u001b[0m in \u001b[0;36m<module>\u001b[0;34m\u001b[0m\n\u001b[0;32m----> 1\u001b[0;31m \u001b[0mf\u001b[0m \u001b[0;34m=\u001b[0m \u001b[0mforms\u001b[0m\u001b[0;34m(\u001b[0m\u001b[0mf\u001b[0m\u001b[0;34m)\u001b[0m\u001b[0;34m\u001b[0m\u001b[0;34m\u001b[0m\u001b[0m\n\u001b[0m",
      "\u001b[0;31mTypeError\u001b[0m: 'module' object is not callable"
     ]
    }
   ],
   "source": [
    "f = forms(f)"
   ]
  },
  {
   "cell_type": "code",
   "execution_count": 50,
   "metadata": {},
   "outputs": [
    {
     "ename": "NameError",
     "evalue": "name 'MultivalueField' is not defined",
     "output_type": "error",
     "traceback": [
      "\u001b[0;31m---------------------------------------------------------------------------\u001b[0m",
      "\u001b[0;31mNameError\u001b[0m                                 Traceback (most recent call last)",
      "\u001b[0;32m<ipython-input-50-651e729d16b2>\u001b[0m in \u001b[0;36m<module>\u001b[0;34m\u001b[0m\n\u001b[1;32m      3\u001b[0m \u001b[0;32mfrom\u001b[0m \u001b[0mdjango\u001b[0m\u001b[0;34m.\u001b[0m\u001b[0mforms\u001b[0m \u001b[0;32mimport\u001b[0m \u001b[0mMultiValueField\u001b[0m\u001b[0;34m\u001b[0m\u001b[0;34m\u001b[0m\u001b[0m\n\u001b[1;32m      4\u001b[0m \u001b[0;34m\u001b[0m\u001b[0m\n\u001b[0;32m----> 5\u001b[0;31m \u001b[0;32mclass\u001b[0m \u001b[0mPhoneField\u001b[0m\u001b[0;34m(\u001b[0m\u001b[0mMultivalueField\u001b[0m\u001b[0;34m)\u001b[0m\u001b[0;34m:\u001b[0m\u001b[0;34m\u001b[0m\u001b[0;34m\u001b[0m\u001b[0m\n\u001b[0m\u001b[1;32m      6\u001b[0m     \u001b[0;32mdef\u001b[0m \u001b[0m__init__\u001b[0m\u001b[0;34m(\u001b[0m\u001b[0mself\u001b[0m\u001b[0;34m,\u001b[0m \u001b[0;34m**\u001b[0m\u001b[0mkwargs\u001b[0m\u001b[0;34m)\u001b[0m\u001b[0;34m:\u001b[0m\u001b[0;34m\u001b[0m\u001b[0;34m\u001b[0m\u001b[0m\n\u001b[1;32m      7\u001b[0m         \u001b[0;31m# Define one message for all fields.\u001b[0m\u001b[0;34m\u001b[0m\u001b[0;34m\u001b[0m\u001b[0;34m\u001b[0m\u001b[0m\n",
      "\u001b[0;31mNameError\u001b[0m: name 'MultivalueField' is not defined"
     ]
    }
   ],
   "source": [
    "from django.core.validators import RegexValidator \n",
    "from django.forms import forms \n",
    "from django.forms import MultiValueField \n",
    "\n",
    "class PhoneField(MultivalueField):\n",
    "    def __init__(self, **kwargs):\n",
    "        # Define one message for all fields. \n",
    "        error_messages = {\n",
    "            'incomplete': 'Enter a country calling code and a phone number.'\n",
    "        }\n",
    "        # Or define a different message for each field. \n",
    "        fields = (\n",
    "            Charfield(\n",
    "                error_messages = {'incomplete': 'Enter a country calling code.'},\n",
    "                validators = [RegexValidator(r'^[0-9]+$', 'Enter a valid country calling code.'),\n",
    "                             ],\n",
    "            ),\n",
    "            CharField(\n",
    "                validators = [RegexValidator(r'^[0-9]+$', 'Enter a valid extension.')],\n",
    "                required = False,\n",
    "            ),\n",
    "        )\n",
    "        super().__init__(\n",
    "                error_messages=error_messages, fields=fields, \n",
    "                require_all_fields=False, **kwargs\n",
    "        )\n",
    "        "
   ]
  },
  {
   "cell_type": "code",
   "execution_count": null,
   "metadata": {},
   "outputs": [],
   "source": []
  }
 ],
 "metadata": {
  "kernelspec": {
   "display_name": "Django Shell-Plus",
   "language": "python",
   "name": "django_extensions"
  },
  "language_info": {
   "codemirror_mode": {
    "name": "ipython",
    "version": 3
   },
   "file_extension": ".py",
   "mimetype": "text/x-python",
   "name": "python",
   "nbconvert_exporter": "python",
   "pygments_lexer": "ipython3",
   "version": "3.7.4"
  }
 },
 "nbformat": 4,
 "nbformat_minor": 4
}
