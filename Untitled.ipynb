{
 "cells": [
  {
   "cell_type": "code",
   "execution_count": 1,
   "metadata": {},
   "outputs": [
    {
     "ename": "NameError",
     "evalue": "name 'path' is not defined",
     "output_type": "error",
     "traceback": [
      "\u001b[0;31m---------------------------------------------------------------------------\u001b[0m",
      "\u001b[0;31mNameError\u001b[0m                                 Traceback (most recent call last)",
      "\u001b[0;32m<ipython-input-1-6c45878c0c97>\u001b[0m in \u001b[0;36m<module>\u001b[0;34m\u001b[0m\n\u001b[1;32m      3\u001b[0m \u001b[0;31m# urlpatterns\u001b[0m\u001b[0;34m\u001b[0m\u001b[0;34m\u001b[0m\u001b[0;34m\u001b[0m\u001b[0m\n\u001b[1;32m      4\u001b[0m \u001b[0;34m\u001b[0m\u001b[0m\n\u001b[0;32m----> 5\u001b[0;31m \u001b[0mpath\u001b[0m\u001b[0;34m(\u001b[0m\u001b[0;34m'cart'\u001b[0m\u001b[0;34m,\u001b[0m \u001b[0mviews\u001b[0m\u001b[0;34m.\u001b[0m\u001b[0mcart\u001b[0m\u001b[0;34m,\u001b[0m \u001b[0mname\u001b[0m\u001b[0;34m=\u001b[0m\u001b[0;34m'cart'\u001b[0m\u001b[0;34m)\u001b[0m\u001b[0;34m,\u001b[0m\u001b[0;34m\u001b[0m\u001b[0;34m\u001b[0m\u001b[0m\n\u001b[0m\u001b[1;32m      6\u001b[0m \u001b[0;34m\u001b[0m\u001b[0m\n\u001b[1;32m      7\u001b[0m \u001b[0;31m# views.py\u001b[0m\u001b[0;34m\u001b[0m\u001b[0;34m\u001b[0m\u001b[0;34m\u001b[0m\u001b[0m\n",
      "\u001b[0;31mNameError\u001b[0m: name 'path' is not defined"
     ]
    }
   ],
   "source": [
    "# Design Cart View \n",
    "\n",
    "# urlpatterns \n",
    "\n",
    "path('cart', views.cart, name='cart'), \n",
    "\n",
    "# views.py \n",
    "\n",
    "def cart(request):\n",
    "    return render(request, 'cart.html')\n",
    "\n"
   ]
  },
  {
   "cell_type": "code",
   "execution_count": 2,
   "metadata": {},
   "outputs": [
    {
     "ename": "NameError",
     "evalue": "name 'models' is not defined",
     "output_type": "error",
     "traceback": [
      "\u001b[0;31m---------------------------------------------------------------------------\u001b[0m",
      "\u001b[0;31mNameError\u001b[0m                                 Traceback (most recent call last)",
      "\u001b[0;32m<ipython-input-2-bd05a6052691>\u001b[0m in \u001b[0;36m<module>\u001b[0;34m\u001b[0m\n\u001b[1;32m      1\u001b[0m \u001b[0;31m# cart model\u001b[0m\u001b[0;34m\u001b[0m\u001b[0;34m\u001b[0m\u001b[0;34m\u001b[0m\u001b[0m\n\u001b[1;32m      2\u001b[0m \u001b[0;34m\u001b[0m\u001b[0m\n\u001b[0;32m----> 3\u001b[0;31m \u001b[0;32mclass\u001b[0m \u001b[0mCart\u001b[0m\u001b[0;34m(\u001b[0m\u001b[0mmodels\u001b[0m\u001b[0;34m.\u001b[0m\u001b[0mModel\u001b[0m\u001b[0;34m)\u001b[0m\u001b[0;34m:\u001b[0m\u001b[0;34m\u001b[0m\u001b[0;34m\u001b[0m\u001b[0m\n\u001b[0m\u001b[1;32m      4\u001b[0m     \u001b[0mcart_id\u001b[0m \u001b[0;34m=\u001b[0m \u001b[0mmodels\u001b[0m\u001b[0;34m.\u001b[0m\u001b[0mCharField\u001b[0m\u001b[0;34m(\u001b[0m\u001b[0mmax_length\u001b[0m\u001b[0;34m=\u001b[0m\u001b[0;36m250\u001b[0m\u001b[0;34m,\u001b[0m \u001b[0mblank\u001b[0m\u001b[0;34m=\u001b[0m\u001b[0;32mTrue\u001b[0m\u001b[0;34m)\u001b[0m\u001b[0;34m\u001b[0m\u001b[0;34m\u001b[0m\u001b[0m\n\u001b[1;32m      5\u001b[0m     \u001b[0mdate_added\u001b[0m \u001b[0;34m=\u001b[0m \u001b[0mmodels\u001b[0m\u001b[0;34m.\u001b[0m\u001b[0mDateField\u001b[0m\u001b[0;34m(\u001b[0m\u001b[0mauto_now_add\u001b[0m\u001b[0;34m=\u001b[0m\u001b[0;32mTrue\u001b[0m\u001b[0;34m)\u001b[0m\u001b[0;34m\u001b[0m\u001b[0;34m\u001b[0m\u001b[0m\n",
      "\u001b[0;31mNameError\u001b[0m: name 'models' is not defined"
     ]
    }
   ],
   "source": [
    "# cart model \n",
    "\n",
    "class Cart(models.Model):\n",
    "    cart_id = models.CharField(max_length=250, blank=True)\n",
    "    date_added = models.DateField(auto_now_add=True)\n",
    "    class Meta:\n",
    "        db_table = 'Cart'\n",
    "        ordering = ['date_added']\n",
    "        \n",
    "    def __str__(self):\n",
    "        return self.cart_id \n",
    "\n",
    "    \n",
    "class CartItem(models.Model): \n",
    "    product = models.ForeignKey(Product, on_delete=models.CASCADE)\n",
    "    cart = models.ForeignKey(Cart, on_delete=models.CASCADE)\n",
    "    quantity = models.IntegerField()\n",
    "    active = models.BooleanField(default=True)\n",
    "    \n",
    "    class Meta:\n",
    "        db_table = 'CartItem'\n",
    "        \n",
    "    def sub_total(self):\n",
    "        return self.product.price * self.quantity \n",
    "    \n",
    "    def __str__(self):\n",
    "        return self.product \n",
    "\n",
    "    \n",
    "# views.py \n",
    "\n",
    "\n",
    "def _cart_id(request):\n",
    "    cart = request.session.session_key \n",
    "    if not cart:\n",
    "        cart = request.session.create() \n",
    "    return cart \n",
    "\n",
    "\n",
    "def add_cart(request, product_id):\n",
    "    product = Product.objects.get(id=product_id)\n",
    "    try:\n",
    "        cart = Cart.objects.get(cart_id=_cart_id(request)) \n",
    "    except Cart.DoesNotExist:\n",
    "        cart = Cart.objects.create(\n",
    "            cart_id = _cart_id(request))\n",
    "        \n",
    "        cart.save()\n",
    "    try:\n",
    "        cart_item = CartItem.objects.get(product=product, cart=cart) \n",
    "        cart_item.quantity += 1 \n",
    "        cart_item.save() \n",
    "    except CartItem.DoesNotExist:\n",
    "        cart_item = CartItem.objects.create(\n",
    "        product = product, \n",
    "            quanity = 1, \n",
    "            cart = cart)\n",
    "        cart_item.save() \n",
    "        \n",
    "    return redirect('cart_detail') \n",
    "\n"
   ]
  },
  {
   "cell_type": "code",
   "execution_count": null,
   "metadata": {},
   "outputs": [],
   "source": [
    "def cart_detail(request, total=0, counter=0, cart_items = None):\n",
    "    try:\n",
    "        cart = Cart.objects.get(cart_id=_cart_id(reqeust))\n",
    "        cart_items = CartItem.objects.filter(cart=cart, active=True)\n",
    "        for cart_item in cart_items:\n",
    "            total += (cart_item.product.price * cart_item.quanity)\n",
    "            counter += cart_item.quantity \n",
    "    except ObjectDoesNotExist:\n",
    "        pass \n",
    "    \n",
    "    return render(request, 'cart.html', dict(cart_items = cart_items, total=total))\n",
    "\n",
    "def cart_remove(request, product_id):\n",
    "    cart = Cart.objects.get(cart_id=_cart_id(request))\n",
    "    product = get_object_or_404(Product, id=product_id)\n",
    "    cart_item = CartItemobjects.get(product=product, cart=cart)\n",
    "    if cart_item.quantity > 1:\n",
    "        cart_item.quanity -= 1 \n",
    "        cart_item.save()\n",
    "    else:\n",
    "        cart_item.delete()\n",
    "    return redirect('cart_detail')\n",
    "    \n",
    "    "
   ]
  }
 ],
 "metadata": {
  "kernelspec": {
   "display_name": "Django Shell-Plus",
   "language": "python",
   "name": "django_extensions"
  },
  "language_info": {
   "codemirror_mode": {
    "name": "ipython",
    "version": 3
   },
   "file_extension": ".py",
   "mimetype": "text/x-python",
   "name": "python",
   "nbconvert_exporter": "python",
   "pygments_lexer": "ipython3",
   "version": "3.7.4"
  }
 },
 "nbformat": 4,
 "nbformat_minor": 4
}
