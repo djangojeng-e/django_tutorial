{
 "cells": [
  {
   "cell_type": "code",
   "execution_count": null,
   "metadata": {},
   "outputs": [],
   "source": [
    "from django.db.models import Q\n",
    "\n",
    "def get_queryset(self, *args, **kwargs):\n",
    "    request = self.request\n",
    "    method_dict = request.GET\n",
    "    query = method_dict.get('q', None)\n",
    "    if query is not None:\n",
    "        lookups = Q(title__icontains=query) | Q(description__icontainst=query)\n",
    "        return Product.objects.filter(lookups).distinct()\n",
    "    return Product.objects.featured()"
   ]
  }
 ],
 "metadata": {
  "kernelspec": {
   "display_name": "Django Shell-Plus",
   "language": "python",
   "name": "django_extensions"
  },
  "language_info": {
   "codemirror_mode": {
    "name": "ipython",
    "version": 3
   },
   "file_extension": ".py",
   "mimetype": "text/x-python",
   "name": "python",
   "nbconvert_exporter": "python",
   "pygments_lexer": "ipython3",
   "version": "3.7.4"
  }
 },
 "nbformat": 4,
 "nbformat_minor": 4
}
