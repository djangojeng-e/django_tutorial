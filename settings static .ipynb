{
 "cells": [
  {
   "cell_type": "code",
   "execution_count": null,
   "metadata": {},
   "outputs": [],
   "source": [
    "# setting media & statics \n",
    "\n",
    "STATIC_URL = '/static/'\n",
    "\n",
    "STATICFILES_DIRS = [\n",
    "    os.path.join(BASE_DIR, \"static_my_proj\")\n",
    "]\n",
    "\n",
    "STATIC_ROOT = os.path.join(os.path.dirname(BASE_DIR), \"static_cdn\")"
   ]
  }
 ],
 "metadata": {
  "kernelspec": {
   "display_name": "Django Shell-Plus",
   "language": "python",
   "name": "django_extensions"
  },
  "language_info": {
   "codemirror_mode": {
    "name": "ipython",
    "version": 3
   },
   "file_extension": ".py",
   "mimetype": "text/x-python",
   "name": "python",
   "nbconvert_exporter": "python",
   "pygments_lexer": "ipython3",
   "version": "3.7.4"
  }
 },
 "nbformat": 4,
 "nbformat_minor": 4
}
