{
 "cells": [
  {
   "cell_type": "code",
   "execution_count": 2,
   "metadata": {},
   "outputs": [
    {
     "ename": "ModuleNotFoundError",
     "evalue": "No module named 'products'",
     "output_type": "error",
     "traceback": [
      "\u001b[0;31m---------------------------------------------------------------------------\u001b[0m",
      "\u001b[0;31mModuleNotFoundError\u001b[0m                       Traceback (most recent call last)",
      "\u001b[0;32m<ipython-input-2-c0d80cbd68ff>\u001b[0m in \u001b[0;36m<module>\u001b[0;34m\u001b[0m\n\u001b[1;32m      3\u001b[0m \u001b[0;32mfrom\u001b[0m \u001b[0mdjango\u001b[0m\u001b[0;34m.\u001b[0m\u001b[0mdb\u001b[0m \u001b[0;32mimport\u001b[0m \u001b[0mmodels\u001b[0m\u001b[0;34m\u001b[0m\u001b[0;34m\u001b[0m\u001b[0m\n\u001b[1;32m      4\u001b[0m \u001b[0;34m\u001b[0m\u001b[0m\n\u001b[0;32m----> 5\u001b[0;31m \u001b[0;32mfrom\u001b[0m \u001b[0mproducts\u001b[0m\u001b[0;34m.\u001b[0m\u001b[0mmodels\u001b[0m \u001b[0;32mimport\u001b[0m \u001b[0mProduct\u001b[0m\u001b[0;34m\u001b[0m\u001b[0;34m\u001b[0m\u001b[0m\n\u001b[0m\u001b[1;32m      6\u001b[0m \u001b[0;34m\u001b[0m\u001b[0m\n\u001b[1;32m      7\u001b[0m \u001b[0mUser\u001b[0m \u001b[0;34m=\u001b[0m \u001b[0msettings\u001b[0m\u001b[0;34m.\u001b[0m\u001b[0mAUTH_USER_MODEL\u001b[0m\u001b[0;34m\u001b[0m\u001b[0;34m\u001b[0m\u001b[0m\n",
      "\u001b[0;31mModuleNotFoundError\u001b[0m: No module named 'products'"
     ]
    }
   ],
   "source": [
    "# Django Session \n",
    "from django.conf import settings \n",
    "from django.db import models \n",
    "\n",
    "from products.models import Product\n",
    "\n",
    "User = settings.AUTH_USER_MODEL \n",
    "\n",
    "class Cart(models.Model):\n",
    "    user = models.ForeignKey(User, null=True, blank=True)\n",
    "    products = models.ManyToManyField(Product, blank=True)  \n",
    "    total = models.DecimalField(default=0.00, max_digits=100, decimal_places=2)\n",
    "    updated = models.DateTimeField(auto_now=True)\n",
    "    timestamp = models.DateTimeField(auto_now_add=True)\n",
    "    \n",
    "    def __str__(self):\n",
    "        return str(self.id)"
   ]
  },
  {
   "cell_type": "code",
   "execution_count": 3,
   "metadata": {},
   "outputs": [],
   "source": [
    "# Creating Cart in Session \n",
    "\n",
    "from django.shortcuts import render \n",
    "\n",
    "from .models import Cart \n",
    "\n",
    "\n",
    "def cart_home(request):\n",
    "    cart_id = request.session.get(\"cart_id\", None)\n",
    "    if cart_id is None:\n",
    "        print('create new cart')\n",
    "        request.session['cart_id'] = 12 \n",
    "    else:\n",
    "        print('Cart ID exists')\n",
    "    return render(request, \"carts/home.html\", {})"
   ]
  },
  {
   "cell_type": "code",
   "execution_count": null,
   "metadata": {},
   "outputs": [],
   "source": [
    "# create Cart Id using Cart model \n",
    "\n",
    "from django.shortcuts import render \n",
    "\n",
    "from .models import Cart \n",
    "\n",
    "def cart_home(request):\n",
    "    del request.session['cart_id']\n",
    "    cart_id = request.session.get(\"cart_id\", None)\n",
    "    if cart_id is None:\n",
    "        cart_obj = Cart.objects.create(user=None)\n",
    "        request.session['cart_id'] = cart_obj.id \n",
    "    else:\n",
    "        print('Cart ID exists')\n",
    "        print(cart_id)\n",
    "        cart_obj = Cart.objects.get(id=cart_id)\n",
    "    return render(request, \"carts/home.html\", {})"
   ]
  }
 ],
 "metadata": {
  "kernelspec": {
   "display_name": "Django Shell-Plus",
   "language": "python",
   "name": "django_extensions"
  },
  "language_info": {
   "codemirror_mode": {
    "name": "ipython",
    "version": 3
   },
   "file_extension": ".py",
   "mimetype": "text/x-python",
   "name": "python",
   "nbconvert_exporter": "python",
   "pygments_lexer": "ipython3",
   "version": "3.7.4"
  }
 },
 "nbformat": 4,
 "nbformat_minor": 4
}
